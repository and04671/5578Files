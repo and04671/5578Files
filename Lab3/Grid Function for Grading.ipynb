{
 "cells": [
  {
   "cell_type": "code",
   "execution_count": 1,
   "metadata": {},
   "outputs": [],
   "source": [
    "# The following script uses a class to calculates a statistics based\n",
    "# on a predefined 2-dimensional array (grid)\n",
    "# SKILLS:\n",
    "#       1. using a numpy array \n",
    "#       2. defining functions\n",
    "#       3. using functions\n",
    "# Author: Cole Anderson\n",
    "#------------------  Modules loaded -----------------\n",
    "import numpy as np\n",
    "import csv\n",
    "#outer directory and list of CSVs for program\n",
    "Directory = r\"C:\\Users\\Cole\\Documents\\GitHub\\lab3-and04671\"\n",
    "CSVs = [r\"\\random_values\",r\"\\one_zero\"]"
   ]
  },
  {
   "cell_type": "code",
   "execution_count": 26,
   "metadata": {},
   "outputs": [],
   "source": [
    "#-------------Functions Loaded---------------------------------------------\n",
    "def RowStatistics(InputGrid,row):\n",
    "    \"\"\"returns stats for the desired numpy row object\"\"\"\n",
    "    theRow = InputGrid[row,:]\n",
    "    return(getArrayStats(theRow))\n",
    "def ColStatistics(InputGrid,col):\n",
    "    \"\"\"returns stats for the desired numpy column object\"\"\"\n",
    "    theCol = InputGrid[:,col]\n",
    "    return(getArrayStats(theCol))   \n",
    "def getArrayStats(Array):\n",
    "    \"\"\"this is called from the other functions to execute and return stats\"\"\"\n",
    "    return(\"sum:\",np.sum(Array),\"average:\",np.average(Array),\"standard dev:\",np.std(Array))   \n",
    "def changeCellValue(InputGrid,row,column,newvalue):\n",
    "    '''this function will find and replace a value at an index with another'''\n",
    "##'This function will allow you to change a cell value'\n",
    "    InputGrid[row,column] = newvalue\n"
   ]
  },
  {
   "cell_type": "code",
   "execution_count": 27,
   "metadata": {},
   "outputs": [
    {
     "name": "stdout",
     "output_type": "stream",
     "text": [
      "File: \\random_values\n",
      "   Row Statistics for row 7 : ('sum:', 55.0, 'average:', 5.5, 'standard dev:', 3.0083217912982647)\n",
      "   Column Statistics for column 6 : ('sum:', 40.0, 'average:', 4.0, 'standard dev:', 2.6076809620810595)\n",
      "File: \\one_zero\n",
      "   Row Statistics for row 7 : ('sum:', 8.0, 'average:', 0.4, 'standard dev:', 0.48989794855663565)\n",
      "   Column Statistics for column 6 : ('sum:', 133.0, 'average:', 0.532, 'standard dev:', 0.49897494927100305)\n"
     ]
    }
   ],
   "source": [
    "##script for finding desired row/column in files\n",
    "desiredRow = 7\n",
    "desiredColumn = 6\n",
    "##-------------------------------------------\n",
    "#will find row/col stats for both files\n",
    "for CSV in CSVs:\n",
    "    #combine path and create list from CSV\n",
    "    completePath = Directory + CSV +\".csv\" \n",
    "    with open(completePath, \"r\") as csvFile:\n",
    "        listFromCSV = list(csv.reader(csvFile))\n",
    "    #create array from list\n",
    "    gridFromList = np.array(listFromCSV, dtype=np.float)\n",
    "    #optional change value call\n",
    "    #changeCellValue(gridFromList,3,5,1)\n",
    "    #print stats\n",
    "    print(\"File:\", CSV)\n",
    "    print(\"   Row Statistics for row\",desiredRow,\":\",RowStatistics(gridFromList,desiredRow))\n",
    "    print(\"   Column Statistics for column\",desiredColumn,\":\", ColStatistics(gridFromList,desiredColumn))\n"
   ]
  },
  {
   "cell_type": "code",
   "execution_count": 28,
   "metadata": {},
   "outputs": [
    {
     "name": "stdout",
     "output_type": "stream",
     "text": [
      "C:\\Users\\Cole\\Documents\\GitHub\\lab3-and04671\\random_values.csv \n",
      "initial stats: ('sum:', 493.0, 'average:', 4.93, 'standard dev:', 3.222592124362002)\n",
      "number of eights in array: 8\n",
      "all eights are now twos\n",
      "new statistics: ('sum:', 445.0, 'average:', 4.45, 'standard dev:', 3.1760824926314495) \n",
      "\n",
      "C:\\Users\\Cole\\Documents\\GitHub\\lab3-and04671\\one_zero.csv \n",
      "initial stats: ('sum:', 2476.0, 'average:', 0.4952, 'standard dev:', 0.4999769594691339)\n",
      "number of eights in array: 0\n",
      "all eights are now twos\n",
      "new statistics: ('sum:', 2476.0, 'average:', 0.4952, 'standard dev:', 0.4999769594691339) \n",
      "\n"
     ]
    }
   ],
   "source": [
    "#similar to above. opens all CSVs and converts them to array, then finds stats for whole file\n",
    "for CSV in CSVs:\n",
    "    completePath = Directory + CSV +\".csv\" \n",
    "    with open(completePath, \"r\") as csvFile:\n",
    "        listFromCSV = list(csv.reader(csvFile))\n",
    "        #listFromCSV = [[2,3,5],[1,2,6],[3,4,2]]\n",
    "    gridFromList = np.array(listFromCSV, dtype=np.float)\n",
    "    print(completePath,\"\\ninitial stats:\",getArrayStats(gridFromList))\n",
    "#--------------------------------------------\n",
    "#this should count all the eights, and replace all 8s in the grid with 2\n",
    "    print(\"number of eights in array:\", np.count_nonzero(gridFromList==8))\n",
    "    gridFromList[gridFromList==8] = 2\n",
    "    print(\"all eights are now twos\")\n",
    "    \n",
    "    #stuff I tried\n",
    "        #x = np.where(gridFromList == 8)\n",
    "        #print(x)\n",
    "        #if (len(x[0]) or len(x[1]))==0:\n",
    "           # print(\"yikes, no eights\")\n",
    "            #continue\n",
    "        #else:\n",
    "            #for each in x:\n",
    "             #   print(each)\n",
    "                #print([0])\n",
    "                #changeCellValue(gridFromList,eights[0],eights[1],2)\n",
    "#--------------------------------------------    \n",
    "    #prints the new array stats after replacement\n",
    "    print(\"new statistics:\",getArrayStats(gridFromList),\"\\n\")\n",
    "    "
   ]
  }
 ],
 "metadata": {
  "kernelspec": {
   "display_name": "Python 3",
   "language": "python",
   "name": "python3"
  },
  "language_info": {
   "codemirror_mode": {
    "name": "ipython",
    "version": 3
   },
   "file_extension": ".py",
   "mimetype": "text/x-python",
   "name": "python",
   "nbconvert_exporter": "python",
   "pygments_lexer": "ipython3",
   "version": "3.6.8"
  }
 },
 "nbformat": 4,
 "nbformat_minor": 2
}
