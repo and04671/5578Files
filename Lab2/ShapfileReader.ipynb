{
 "cells": [
  {
   "cell_type": "code",
   "execution_count": 3,
   "metadata": {},
   "outputs": [],
   "source": [
    "#Homework 2 Template\n",
    "#Shapefile Reader\n",
    "#GIS 5578\n",
    "#Fall 2019\n",
    "\n",
    "### The purpose of this lab is build skills around control structures. ###\n",
    "\n",
    "\n",
    "### import modules\n",
    "\n",
    "\n",
    "\n"
   ]
  },
  {
   "cell_type": "code",
   "execution_count": 22,
   "metadata": {},
   "outputs": [
    {
     "name": "stdout",
     "output_type": "stream",
     "text": [
      "1\n",
      "states.shp\n",
      "FID\n",
      "Shape\n",
      "STATEFP\n",
      "STATENS\n",
      "AFFGEOID\n",
      "GEOID\n",
      "STUSPS\n",
      "NAME\n",
      "LSAD\n",
      "ALAND\n",
      "AWATER\n",
      "ID\n"
     ]
    }
   ],
   "source": [
    "### Set the path to the shapefiles\n",
    "### Set the outcsv path\n",
    "\n",
    "#so the heck is going on here...you don't need that theDirectory variable\n",
    "arcpy.env.workspace = r\"C:\\Users\\Cole\\Documents\\GitHub\\lab2-and04671\\shapefiles\"#print(arcpy.env.workspace)\n",
    "outFilePath = r\"C:\\Users\\Cole\\Documents\\GitHub\\lab2-and04671\\TestCSV.csv\"\n",
    "\n",
    "#**************************************************************************\n",
    "### This function arcpy.ListFeatureClasses() returns a list of all feature classes found within the geodatabase\n",
    "# a shapefile is actually an example of a feature class\n",
    "AllFeatureClasses = arcpy.ListFeatureClasses()\n",
    "print(len(AllFeatureClasses))\n",
    "for FeatureClass in AllFeatureClasses:\n",
    "    print(FeatureClass)\n",
    "### How will you identify now many feature classes are in the directory?\n",
    "    #len(AllFeatureClasses) seems to do the trick. There's just 1\n",
    "### How will you know when there none left?\n",
    "    #The loop printing each class should stop printing and move on \n",
    "\n",
    "### How can you determine which FeatureClass the loop is using?\n",
    "    #Print the class. It's states.shp\n",
    "\n",
    "### http://desktop.arcgis.com/en/arcmap/10.3/analyze/python/fields-and-indexes.htm\n",
    "#so this gets all the fields inside the Feature class    \n",
    "    for thefield in arcpy.ListFields(FeatureClass):\n",
    "        print (thefield.name)\n",
    "#****************************************************************************\n",
    "\n",
    "### This is extra you can skip this.\n",
    "### This segment of code will allow you to access the attributes of each field  \n",
    "### listofFields = This is a variable that is list \"object\" that contains all the fields of the shapefile\n",
    "### http://desktop.arcgis.com/en/arcmap/10.3/analyze/python/data-access-using-cursors.htm#ESRI_SECTION1_B52766EB21374F1F9E4727014A9E0A32\n",
    "##if \"Shape\" in listofFields: listofFields.remove(\"Shape\")\n",
    "##if \"GEOG\" in listofFields: listofFields.remove(\"GEOG\")\n",
    "##with arcpy.da.SearchCursor(aFeatureClass, listofFields) as cursor:\n",
    "##  for rec in cursor:\n",
    "##      #The variables rec is assigned to the first row in the shapefile database\n",
    "##      for r in rec:\n",
    "##          #The variable r is assigned to the first object / field in the variable record\n",
    "##          print(r)\n",
    "### End of extra stuff ####\n",
    "\n",
    "### Create a new file\n",
    "theCSV = open(outFilePath, \"w\",newline='\\n')\n",
    "for field in arcpy.ListFields(FeatureClass):\n",
    "    theCSV.write(field.name)\n",
    "    theCSV.write(\", \")\n",
    "    \n",
    "### You will need to write out your csv file. \n",
    "### Example: theCSV.write(\"%s, %s\" % (field1, field2))\n",
    "### Example: formattedfields = \",\".join( [\"field1\", \"field2\", \"field3\"]  )\n",
    "\n",
    "theCSV.close()\n",
    "### Make sure to close your file"
   ]
  }
 ],
 "metadata": {
  "kernelspec": {
   "display_name": "Python 3",
   "language": "python",
   "name": "python3"
  },
  "language_info": {
   "codemirror_mode": {
    "name": "ipython",
    "version": 3
   },
   "file_extension": ".py",
   "mimetype": "text/x-python",
   "name": "python",
   "nbconvert_exporter": "python",
   "pygments_lexer": "ipython3",
   "version": "3.6.8"
  }
 },
 "nbformat": 4,
 "nbformat_minor": 2
}
